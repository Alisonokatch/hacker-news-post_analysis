{
 "cells": [
  {
   "cell_type": "markdown",
   "id": "52f31552-57ad-4274-8548-4c7d5a54c51f",
   "metadata": {},
   "source": [
    "Hacker News is a site started by the startup incubator Y Combinator, where user-submitted stories (known as \"posts\") receive votes and comments, similar to reddit. Hacker News is extremely popular in technology and startup circles, and posts that make it to the top of the Hacker News listings can get hundreds of thousands of visitors as a result."
   ]
  },
  {
   "cell_type": "code",
   "execution_count": 2,
   "id": "56b319d7-36af-4718-945a-4216538fca2d",
   "metadata": {},
   "outputs": [],
   "source": [
    "data = open(r\"C:\\Users\\Alisson\\.anaconda\\HN_posts.csv\")\n"
   ]
  },
  {
   "cell_type": "code",
   "execution_count": 3,
   "id": "9954442f-9037-4d40-8a4d-07fb8c6abb14",
   "metadata": {},
   "outputs": [
    {
     "name": "stdout",
     "output_type": "stream",
     "text": [
      "[['id', 'title', 'url', 'num_points', 'num_comments', 'author', 'created_at'], ['12579008', 'You have two days to comment if you want stem cells to be classified as your own', 'http://www.regulations.gov/document?D=FDA-2015-D-3719-0018', '1', '0', 'altstar', '9/26/2016 3:26'], ['12579005', 'SQLAR  the SQLite Archiver', 'https://www.sqlite.org/sqlar/doc/trunk/README.md', '1', '0', 'blacksqr', '9/26/2016 3:24'], ['12578997', 'What if we just printed a flatscreen television on the side of our boxes?', 'https://medium.com/vanmoof/our-secrets-out-f21c1f03fdc8#.ietxmez43', '1', '0', 'pavel_lishin', '9/26/2016 3:19'], ['12578989', 'algorithmic music', 'http://cacm.acm.org/magazines/2011/7/109891-algorithmic-composition/fulltext', '1', '0', 'poindontcare', '9/26/2016 3:16']]\n"
     ]
    }
   ],
   "source": [
    "import csv\n",
    "\n",
    "with open (r\"C:\\Users\\Alisson\\.anaconda\\HN_posts.csv\", mode='r', encoding='utf8') as file:\n",
    "    reader = csv.reader(file)\n",
    "    hn = list(reader)\n",
    "print(hn[:5])"
   ]
  },
  {
   "cell_type": "code",
   "execution_count": 4,
   "id": "d8f7b91d-0874-459b-8248-3d887a0b2f72",
   "metadata": {},
   "outputs": [
    {
     "name": "stdout",
     "output_type": "stream",
     "text": [
      "['id', 'title', 'url', 'num_points', 'num_comments', 'author', 'created_at']\n"
     ]
    }
   ],
   "source": [
    "headers = hn[0]\n",
    "print(headers)"
   ]
  },
  {
   "cell_type": "code",
   "execution_count": 5,
   "id": "a2c35b1a-c11a-4992-9cca-c3ff158c2594",
   "metadata": {},
   "outputs": [
    {
     "name": "stdout",
     "output_type": "stream",
     "text": [
      "['12579008', 'You have two days to comment if you want stem cells to be classified as your own', 'http://www.regulations.gov/document?D=FDA-2015-D-3719-0018', '1', '0', 'altstar', '9/26/2016 3:26']\n"
     ]
    }
   ],
   "source": [
    "hn = hn[1:]\n",
    "print(hn[0])"
   ]
  },
  {
   "cell_type": "markdown",
   "id": "427bacb2-c0ef-485d-9bf0-5e824a7a592f",
   "metadata": {},
   "source": [
    "Since we're only concerned with post titles beginning with Ask HN or Show HN, we'll create new lists of lists containing just the data for those titles."
   ]
  },
  {
   "cell_type": "code",
   "execution_count": 14,
   "id": "d913ac12-7c04-437e-b67a-1e5d0ed651d5",
   "metadata": {},
   "outputs": [
    {
     "name": "stdout",
     "output_type": "stream",
     "text": [
      "Ask posts: 9139\n",
      "Show posts: 10158\n",
      "Other posts: 273822\n"
     ]
    }
   ],
   "source": [
    "ask_posts = []\n",
    "show_posts = []\n",
    "other_posts = []\n",
    "\n",
    "for row in hn:\n",
    "    title = row[1]\n",
    "    if title.lower().startswith('ask hn'):\n",
    "        ask_posts.append(row)\n",
    "    elif title.lower().startswith('show hn'):\n",
    "        show_posts.append(row)\n",
    "    else:\n",
    "        other_posts.append(row)\n",
    "\n",
    "print('Ask posts:',len(ask_posts))\n",
    "print('Show posts:',len(show_posts))\n",
    "print('Other posts:',len(other_posts))"
   ]
  },
  {
   "cell_type": "code",
   "execution_count": 16,
   "id": "cdfc6fa2-476c-400a-b637-e314c3b6f275",
   "metadata": {
    "scrolled": true
   },
   "outputs": [
    {
     "name": "stdout",
     "output_type": "stream",
     "text": [
      "['12577870', 'Ask HN: Why join a fund when you can be an angel?', '', '1', '3', 'anthony_james', '9/25/2016 22:48']\n"
     ]
    }
   ],
   "source": [
    "print(ask_posts[3])"
   ]
  },
  {
   "cell_type": "code",
   "execution_count": 22,
   "id": "d9d48bfe-5d7d-4775-8b8a-4496ae6a8395",
   "metadata": {},
   "outputs": [
    {
     "name": "stdout",
     "output_type": "stream",
     "text": [
      "10.393478498741656\n",
      "94986\n"
     ]
    }
   ],
   "source": [
    "total_ask_comments = 0\n",
    "for post in ask_posts:\n",
    "    comments = int(post[4])\n",
    "    total_ask_comments += comments\n",
    "avg_ask_comments = total_ask_comments / len(ask_posts)\n",
    "print(avg_ask_comments)\n",
    "print(total_ask_comments)"
   ]
  },
  {
   "cell_type": "code",
   "execution_count": 24,
   "id": "a9af58e8-e98b-434d-97ec-f23ee5874a13",
   "metadata": {},
   "outputs": [
    {
     "name": "stdout",
     "output_type": "stream",
     "text": [
      "4.886099625910612\n",
      "49633\n"
     ]
    }
   ],
   "source": [
    "total_show_comments = 0\n",
    "for post in show_posts:\n",
    "    comments = int(post[4])\n",
    "    total_show_comments += comments\n",
    "avg_show_comments = total_show_comments / len(show_posts)\n",
    "print(avg_show_comments)\n",
    "print(total_show_comments)"
   ]
  },
  {
   "cell_type": "markdown",
   "id": "2255f402-af7f-4d3c-a860-a904816b25ab",
   "metadata": {},
   "source": [
    "From the data, ask posts receive more comments on an average compared to show posts"
   ]
  },
  {
   "cell_type": "code",
   "execution_count": 29,
   "id": "ca6f4470-ac4a-4b8f-8bd2-797327c72a96",
   "metadata": {},
   "outputs": [
    {
     "name": "stdout",
     "output_type": "stream",
     "text": [
      "[['9/26/2016 2:53', 7], ['9/26/2016 1:17', 3], ['9/25/2016 22:57', 0]]\n"
     ]
    }
   ],
   "source": [
    "import datetime as dt\n",
    "result_list = []\n",
    "for row in ask_posts:\n",
    "    created_at = row[6]\n",
    "    comment = int(row[4])\n",
    "    result_list.append([created_at, comment])\n",
    "\n",
    "print(result_list[:3])"
   ]
  },
  {
   "cell_type": "code",
   "execution_count": 49,
   "id": "0dc6f374-3477-4abb-8cda-272a04148681",
   "metadata": {},
   "outputs": [
    {
     "name": "stdout",
     "output_type": "stream",
     "text": [
      "Comments by hour: {'02': 2996, '01': 2089, '22': 3372, '21': 4500, '19': 3954, '17': 5547, '15': 18525, '14': 4972, '13': 7245, '11': 2797, '10': 3013, '09': 1477, '07': 1585, '03': 2154, '23': 2297, '20': 4462, '16': 4466, '08': 2362, '00': 2277, '18': 4877, '12': 4234, '04': 2360, '06': 1587, '05': 1838}\n",
      "Count by hour: {'02': 269, '01': 282, '22': 383, '21': 518, '19': 552, '17': 587, '15': 646, '14': 513, '13': 444, '11': 312, '10': 282, '09': 222, '07': 226, '03': 271, '23': 343, '20': 510, '16': 579, '08': 257, '00': 301, '18': 614, '12': 342, '04': 243, '06': 234, '05': 209}\n"
     ]
    }
   ],
   "source": [
    "counts_by_hour = {}\n",
    "comments_by_hour = {}\n",
    "for row in result_list:\n",
    "    date_str = row[0]\n",
    "    comment = row[1]\n",
    "#    hr = dt.datetime(date_str.hour)\n",
    "    date_obj = dt.datetime.strptime(date_str, \"%m/%d/%Y %H:%M\")\n",
    "    hour = date_obj.strftime(\"%H\")\n",
    "    if hour not in counts_by_hour:\n",
    "        counts_by_hour[hour] = 1\n",
    "        comments_by_hour[hour] = comment\n",
    "    else:\n",
    "        counts_by_hour[hour] += 1\n",
    "        comments_by_hour[hour] += comment\n",
    "print('Comments by hour:', comments_by_hour)\n",
    "print('Count by hour:',  counts_by_hour)"
   ]
  },
  {
   "cell_type": "code",
   "execution_count": 61,
   "id": "33c58deb-abda-43b1-b22f-657128524162",
   "metadata": {},
   "outputs": [
    {
     "name": "stdout",
     "output_type": "stream",
     "text": [
      "[['02', 2996], ['01', 2089], ['22', 3372], ['21', 4500], ['19', 3954], ['17', 5547], ['15', 18525], ['14', 4972], ['13', 7245], ['11', 2797], ['10', 3013], ['09', 1477], ['07', 1585], ['03', 2154], ['23', 2297], ['20', 4462], ['16', 4466], ['08', 2362], ['00', 2277], ['18', 4877], ['12', 4234], ['04', 2360], ['06', 1587], ['05', 1838]]\n"
     ]
    }
   ],
   "source": [
    "avg_by_hour = []\n",
    "for comment in comments_by_hour:\n",
    "    avg_by_hour.append([comment, comments_by_hour[comment]])\n",
    "print(avg_by_hour)"
   ]
  },
  {
   "cell_type": "code",
   "execution_count": 67,
   "id": "ec4b0b9f-c93f-4b05-9501-f535a45d851a",
   "metadata": {},
   "outputs": [
    {
     "name": "stdout",
     "output_type": "stream",
     "text": [
      "[[2996, '02'], [2089, '01'], [3372, '22'], [4500, '21'], [3954, '19'], [5547, '17'], [18525, '15'], [4972, '14'], [7245, '13'], [2797, '11'], [3013, '10'], [1477, '09'], [1585, '07'], [2154, '03'], [2297, '23'], [4462, '20'], [4466, '16'], [2362, '08'], [2277, '00'], [4877, '18'], [4234, '12'], [2360, '04'], [1587, '06'], [1838, '05']]\n"
     ]
    }
   ],
   "source": [
    "swap_avg_by_hour = []\n",
    "for value in avg_by_hour:\n",
    "    swap_avg_by_hour.append([value[1],value[0]])\n",
    "print(swap_avg_by_hour)"
   ]
  },
  {
   "cell_type": "code",
   "execution_count": 69,
   "id": "dbd9c68c-603c-4260-ac09-8f2aabcee945",
   "metadata": {},
   "outputs": [
    {
     "name": "stdout",
     "output_type": "stream",
     "text": [
      "[[1477, '09'], [1585, '07'], [1587, '06'], [1838, '05'], [2089, '01'], [2154, '03'], [2277, '00'], [2297, '23'], [2360, '04'], [2362, '08'], [2797, '11'], [2996, '02'], [3013, '10'], [3372, '22'], [3954, '19'], [4234, '12'], [4462, '20'], [4466, '16'], [4500, '21'], [4877, '18'], [4972, '14'], [5547, '17'], [7245, '13'], [18525, '15']]\n"
     ]
    }
   ],
   "source": [
    "sorted_swap = sorted(swap_avg_by_hour)\n",
    "print(sorted_swap)"
   ]
  },
  {
   "cell_type": "code",
   "execution_count": 85,
   "id": "01c49583-cb3b-4005-9781-7d2865f98572",
   "metadata": {},
   "outputs": [
    {
     "name": "stdout",
     "output_type": "stream",
     "text": [
      "Top 5 Hours for Asks Posts Comments\n",
      "{hour}:{avg} average comments per post\n"
     ]
    }
   ],
   "source": [
    "print('Top 5 Hours for Asks Posts Comments')\n",
    "for row in sorted_swap[:5]:\n",
    "    date_obj2 = row[1]\n",
    "    avg = row[0]\n",
    "    date_obj2 = dt.datetime.strptime(date_obj2, \"%H\")\n",
    "    hour = date_obj2.strftime(\"%H\")\n",
    "    statement = \"{hour}:{avg} average comments per post\"\n",
    "\n",
    "print(statement)"
   ]
  },
  {
   "cell_type": "code",
   "execution_count": null,
   "id": "e26bfc3a-47b4-437d-958b-74a0ff8abb3e",
   "metadata": {},
   "outputs": [],
   "source": []
  }
 ],
 "metadata": {
  "kernelspec": {
   "display_name": "Python 3 (ipykernel)",
   "language": "python",
   "name": "python3"
  },
  "language_info": {
   "codemirror_mode": {
    "name": "ipython",
    "version": 3
   },
   "file_extension": ".py",
   "mimetype": "text/x-python",
   "name": "python",
   "nbconvert_exporter": "python",
   "pygments_lexer": "ipython3",
   "version": "3.12.4"
  }
 },
 "nbformat": 4,
 "nbformat_minor": 5
}
